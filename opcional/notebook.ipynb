{
 "cells": [
  {
   "cell_type": "code",
   "execution_count": 1,
   "metadata": {},
   "outputs": [],
   "source": [
    "from auxiliar_functions import *"
   ]
  },
  {
   "cell_type": "markdown",
   "metadata": {},
   "source": [
    "# Cifrado ElGamal\n",
    "\n",
    "- Se basa en la intratabilidad del problema del logaritmo discreto. Dado $p \\in \\mathbb{N}$ y dados $a, b\\in \\{1, ..., p-1\\}$ encontrar $x$ tal que\n",
    "\n",
    "$$\n",
    "    a^x \\equiv b\\ (mod\\ p)\n",
    "$$\n",
    "\n",
    "en el caso de que exista.\n",
    "\n",
    "- Es fácil computacionalmente la exponenciación modular o el cálculo de inversos (algoritmo Euclides) pero no el logaritmo discreto.\n",
    "\n",
    "- Se utilizará esto para generar una clave privada y pública para encriptar y desencriptar códigos, basado en la idea de que, teniendo la pública, solo se pueda conocer la privada si la has construido tú o resuelves el logaritmo discreto."
   ]
  },
  {
   "cell_type": "markdown",
   "metadata": {},
   "source": [
    "### Generación de clave pública y privada\n",
    "\n",
    "- Se toma un número primo $p$ lo suficientemente grande.\n",
    "- Se escogen dos números $g, a \\in \\{1, ..., p\\}$. El primero se denominará _generador_ y el segundo _clave privada_.\n",
    "- Se calcula\n",
    "\n",
    "$$\n",
    "    K := g^a\\ (mod\\ p)\n",
    "$$\n",
    "- La terna $(g, p, K)$ será la _clave pública_ y el par $(a, p)$ la clave privada. La clave pública será la que daremos a los que quieran enviarnos mensajes. Si alguien quisiera recuperar la clave privada debería resolver el logaritmo discreto."
   ]
  },
  {
   "cell_type": "code",
   "execution_count": 2,
   "metadata": {},
   "outputs": [],
   "source": [
    "class ElGamal:\n",
    "\n",
    "    def __init__(self, p, g = None, a = None):\n",
    "\n",
    "        if g is None:\n",
    "            g = np.random.randint(1, p)\n",
    "        \n",
    "        if a is None:\n",
    "            a = np.random.randint(1, p)\n",
    "\n",
    "        self.p = p\n",
    "        self.g = g\n",
    "        self.a = a\n",
    "\n",
    "        self.K = pow(g, a, p)\n",
    "\n",
    "\n",
    "    def public_key(self):\n",
    "        return (self.g, self.p, self.K)\n",
    "\n",
    "    def private_key(self):\n",
    "        return (self.a, self.p)"
   ]
  },
  {
   "cell_type": "code",
   "execution_count": 3,
   "metadata": {},
   "outputs": [],
   "source": [
    "mis_claves = ElGamal(9349)"
   ]
  },
  {
   "cell_type": "code",
   "execution_count": 4,
   "metadata": {},
   "outputs": [
    {
     "data": {
      "text/plain": [
       "(6974, 9349, 7356)"
      ]
     },
     "execution_count": 4,
     "metadata": {},
     "output_type": "execute_result"
    }
   ],
   "source": [
    "mis_claves.public_key()"
   ]
  },
  {
   "cell_type": "code",
   "execution_count": 5,
   "metadata": {},
   "outputs": [
    {
     "data": {
      "text/plain": [
       "(7338, 9349)"
      ]
     },
     "execution_count": 5,
     "metadata": {},
     "output_type": "execute_result"
    }
   ],
   "source": [
    "mis_claves.private_key()"
   ]
  },
  {
   "cell_type": "markdown",
   "metadata": {},
   "source": [
    "### Encriptación con clave pública\n",
    "\n",
    "Trabajaremos con números (todo caracter tendrá una expresión numérica, siendo este proceso inversible). Para que alguien te envíe un mensaje encriptado que solo tú puedas conocer deberá realizar el siguiente procedimiento.\n",
    "\n",
    "- Supongamos que el caracter que queremos enviar viene representado por el número $m$. Sin pérdida de generalidad $m<p$.\n",
    "- Tomar un número $b \\in \\{1, ..., p\\}$.\n",
    "- Realizar la operación\n",
    "$$\n",
    "    y_1 := g^b\\ (mod\\ p)\n",
    "$$\n",
    "y la operación\n",
    "$$\n",
    "    y_2 := K^bm\\ (mod\\ p)\n",
    "$$\n",
    "- Enviamos el par $(y_1, y_2)$"
   ]
  },
  {
   "cell_type": "code",
   "execution_count": 6,
   "metadata": {},
   "outputs": [],
   "source": [
    "def cifrate_num(m, key, b = None):\n",
    "    g, p, K = key\n",
    "    if b is None:\n",
    "        b = np.random.randint(2, p)\n",
    "    \n",
    "    y_1 = pow(g, b, p)\n",
    "    \n",
    "    return (pow(g, b, p), pow(K, b, p)*m % p)"
   ]
  },
  {
   "cell_type": "code",
   "execution_count": 7,
   "metadata": {},
   "outputs": [
    {
     "data": {
      "text/plain": [
       "((7023, 5817), (1412, 3562), (1801, 5795))"
      ]
     },
     "execution_count": 7,
     "metadata": {},
     "output_type": "execute_result"
    }
   ],
   "source": [
    "m25 = cifrate_num(25, mis_claves.public_key())\n",
    "m145 = cifrate_num(145, mis_claves.public_key())\n",
    "m236 = cifrate_num(236, mis_claves.public_key())\n",
    "\n",
    "m25, m145, m236"
   ]
  },
  {
   "cell_type": "markdown",
   "metadata": {},
   "source": [
    "### Desencriptar con clave privada\n",
    "\n",
    "Recibido el par $(y_1, y_2)$ el proceso de desencriptar será el siguiente.\n",
    "\n",
    "$$\n",
    "    y_1^{-a} y_2 = g^{-ab} K^bm =  g^{-ab} g^{ab}m = m \\ (mod\\ p)\n",
    "$$\n",
    "\n",
    "O, por el teorema de Fermat:\n",
    "\n",
    "$$\n",
    "    y_1^{-a} = y_1^{p-1-a}\\ (mod\\ p)\n",
    "$$\n",
    "pues $y_1^{p-1} \\equiv 1\\ (mod\\ p)$ y entonces\n",
    "\n",
    "$$\n",
    "    y_1^{-a} y_2 = y_1^{p-1-a} K^bm =  g^{-(p-1-a)b} g^{ab}m = g^{p-1}m = m \\ (mod\\ p)\n",
    "$$\n",
    "\n",
    "Entonces bastaría realizar el cálculo $y_1^{-a} y_2$ para obtener $m$."
   ]
  },
  {
   "cell_type": "code",
   "execution_count": 8,
   "metadata": {},
   "outputs": [],
   "source": [
    "def uncifrate_num(y_tuple, key):\n",
    "    a, p = key\n",
    "    y1, y2 = y_tuple\n",
    "\n",
    "    return pow(y1, p-1-a, p)*y2 % p"
   ]
  },
  {
   "cell_type": "code",
   "execution_count": 9,
   "metadata": {},
   "outputs": [
    {
     "data": {
      "text/plain": [
       "(25, 145, 236)"
      ]
     },
     "execution_count": 9,
     "metadata": {},
     "output_type": "execute_result"
    }
   ],
   "source": [
    "uncifrate_num(m25, mis_claves.private_key()), uncifrate_num(m145, mis_claves.private_key()), uncifrate_num(m236, mis_claves.private_key()) "
   ]
  },
  {
   "cell_type": "markdown",
   "metadata": {},
   "source": [
    "### Cifrar y descifrar texto"
   ]
  },
  {
   "cell_type": "code",
   "execution_count": 10,
   "metadata": {},
   "outputs": [],
   "source": [
    "def cifrate_text_ElGamal(text, key):\n",
    "    return list(map(lambda char: cifrate_num(ord(char), key), text))\n",
    "\n",
    "def uncifrate_tuples_ElGamal(list_tuples, key):\n",
    "    return \"\".join(map(lambda tup: chr(uncifrate_num(tup, key)), list_tuples))"
   ]
  },
  {
   "cell_type": "code",
   "execution_count": 11,
   "metadata": {},
   "outputs": [
    {
     "data": {
      "text/plain": [
       "[(3935, 8456),\n",
       " (8777, 2929),\n",
       " (3726, 4041),\n",
       " (4036, 3702),\n",
       " (2412, 8722),\n",
       " (3216, 5591),\n",
       " (1506, 683),\n",
       " (4205, 5204),\n",
       " (6672, 3880),\n",
       " (7010, 2431),\n",
       " (5044, 5909),\n",
       " (4815, 2300),\n",
       " (193, 4638),\n",
       " (5164, 7097),\n",
       " (2239, 1144),\n",
       " (8133, 7103)]"
      ]
     },
     "execution_count": 11,
     "metadata": {},
     "output_type": "execute_result"
    }
   ],
   "source": [
    "tuples = cifrate_text_ElGamal(\"Hola buenos días\", mis_claves.public_key())\n",
    "tuples"
   ]
  },
  {
   "cell_type": "code",
   "execution_count": 12,
   "metadata": {},
   "outputs": [
    {
     "data": {
      "text/plain": [
       "'Hola buenos días'"
      ]
     },
     "execution_count": 12,
     "metadata": {},
     "output_type": "execute_result"
    }
   ],
   "source": [
    "uncifrate_tuples_ElGamal(tuples, mis_claves.private_key() )"
   ]
  },
  {
   "cell_type": "markdown",
   "metadata": {},
   "source": [
    "### Sacando clave privada a partir de la pública"
   ]
  },
  {
   "cell_type": "code",
   "execution_count": 35,
   "metadata": {},
   "outputs": [
    {
     "data": {
      "text/plain": [
       "(327, 7338)"
      ]
     },
     "execution_count": 35,
     "metadata": {},
     "output_type": "execute_result"
    }
   ],
   "source": [
    "g, p, K = mis_claves.public_key()\n",
    "a, p = mis_claves.private_key()\n",
    "\n",
    "supuesto_a = discrete_logarithm(g, K, p)\n",
    "supuesto_a, a"
   ]
  },
  {
   "cell_type": "code",
   "execution_count": 36,
   "metadata": {},
   "outputs": [
    {
     "data": {
      "text/plain": [
       "(7356, 7356)"
      ]
     },
     "execution_count": 36,
     "metadata": {},
     "output_type": "execute_result"
    }
   ],
   "source": [
    "pow(g, supuesto_a, p), pow(g, a, p)"
   ]
  },
  {
   "cell_type": "markdown",
   "metadata": {},
   "source": [
    "\n",
    "Para el siguiente problema no es asumible calcular el logaritmo discreto. Tomamos $p=337960305558063973$."
   ]
  },
  {
   "cell_type": "code",
   "execution_count": 29,
   "metadata": {},
   "outputs": [
    {
     "data": {
      "text/plain": [
       "((228019828392063808, 337960305558063973, 299830776020120187),\n",
       " (162210846004661464, 337960305558063973))"
      ]
     },
     "execution_count": 29,
     "metadata": {},
     "output_type": "execute_result"
    }
   ],
   "source": [
    "mis_claves2 = ElGamal(337960305558063973)\n",
    "g, p, K = mis_claves2.public_key()\n",
    "a, p = mis_claves2.private_key()\n",
    "\n",
    "(g,p, K),(a, p)"
   ]
  },
  {
   "cell_type": "code",
   "execution_count": 32,
   "metadata": {},
   "outputs": [],
   "source": [
    "#supuesto_a = discrete_logarithm(g, K, p)\n",
    "#supuesto_a, a"
   ]
  },
  {
   "cell_type": "markdown",
   "metadata": {},
   "source": [
    "# Cifrado RSA\n",
    "\n",
    "- Es el cifrado más utilizado.\n",
    "- Es simétrico (lo encriptado con la pública se desencripta con la privada, y viceversa).\n",
    "- Se fundamenta en la intratabilidad del problema de factorizar en números primos."
   ]
  },
  {
   "cell_type": "markdown",
   "metadata": {},
   "source": [
    "### Generación de clave pública y privada\n",
    "\n",
    "- Se toman dos números primos $p, q \\in \\mathbb{N}$.\n",
    "- Se considera $n := pq$.\n",
    "- Se toma un número $e\\in\\{2, ..., n-1\\}$ coprimo con $\\varphi(n)$. La clave pública será $(n, e)$.\n",
    "- Se calcula $d$ tal que\n",
    "\n",
    "$$\n",
    "    de = 1\\ (mod\\ \\varphi(n))\n",
    "$$\n",
    "\n",
    "La clave privada será $(n, d)$.\n",
    "\n",
    "- Al tener alguien la clave pública, no podrá obtener $d$ a menos que consiga $\\varphi(n)$. Este cálculo fuerza a tener que factorizar $n$."
   ]
  },
  {
   "cell_type": "code",
   "execution_count": 38,
   "metadata": {},
   "outputs": [],
   "source": [
    "class RSA:\n",
    "    def __init__(self, p, q):\n",
    "        self.p = p\n",
    "        self.q = q\n",
    "\n",
    "        self.n = p*q\n",
    "\n",
    "        phi_n = (p-1)*(q-1)\n",
    "\n",
    "        self.e = int(np.random.choice(list(find_coprime(phi_n))))\n",
    "        self.d = mod_inverse(self.e,phi_n)\n",
    "\n",
    "    def public_key(self):\n",
    "        return (self.n, self.e)\n",
    "\n",
    "    def private_key(self):\n",
    "        return (self.n, self.d)"
   ]
  },
  {
   "cell_type": "code",
   "execution_count": 40,
   "metadata": {},
   "outputs": [
    {
     "data": {
      "text/plain": [
       "((3233, 1943), (3233, 167))"
      ]
     },
     "execution_count": 40,
     "metadata": {},
     "output_type": "execute_result"
    }
   ],
   "source": [
    "my_rsa = RSA(61, 53)\n",
    "\n",
    "my_rsa.public_key(), my_rsa.private_key()"
   ]
  },
  {
   "cell_type": "markdown",
   "metadata": {},
   "source": [
    "### Encriptación con clave pública\n",
    "\n",
    "Dado un número $m$ que representa el caracter a encriptar y la clave pública $(n, e)$ se calcula\n",
    "\n",
    "$$\n",
    "    M := m^e\\ (mod\\ n)\n",
    "$$"
   ]
  },
  {
   "cell_type": "code",
   "execution_count": 43,
   "metadata": {},
   "outputs": [],
   "source": [
    "def cifrate_num(number, key):\n",
    "    n, e = key\n",
    "    return pow(number, e, n)"
   ]
  },
  {
   "cell_type": "code",
   "execution_count": 46,
   "metadata": {},
   "outputs": [
    {
     "data": {
      "text/plain": [
       "2005"
      ]
     },
     "execution_count": 46,
     "metadata": {},
     "output_type": "execute_result"
    }
   ],
   "source": [
    "m89 = cifrate_num(89, my_rsa.public_key())\n",
    "m89"
   ]
  },
  {
   "cell_type": "markdown",
   "metadata": {},
   "source": [
    "### Desencriptar con clave privada\n",
    "\n",
    "Se hace lo mismo pero considerando la clave privada $(n, d)$. Supongamos que $M$ es el mensaje encriptado, entonces\n",
    "\n",
    "$$\n",
    "    M^d = (m^e)^d = m^{ed} = m\\ (mod\\ n)\n",
    "$$\n",
    "\n",
    "pues por el pequeño teorema de Fermat $a^x = a\\ (mod\\ n)$ si $x = 1\\ (mod\\ \\varphi(n))$ (condición que ocurre por construcción)."
   ]
  },
  {
   "cell_type": "code",
   "execution_count": 48,
   "metadata": {},
   "outputs": [
    {
     "data": {
      "text/plain": [
       "89"
      ]
     },
     "execution_count": 48,
     "metadata": {},
     "output_type": "execute_result"
    }
   ],
   "source": [
    "cifrate_num(m89, my_rsa.private_key())"
   ]
  },
  {
   "cell_type": "markdown",
   "metadata": {},
   "source": [
    "### Encriptando y desencriptando texto"
   ]
  },
  {
   "cell_type": "code",
   "execution_count": 50,
   "metadata": {},
   "outputs": [],
   "source": [
    "def cifrate_text(text, key):\n",
    "    return \"\".join(map(lambda char: chr(cifrate_num(ord(char), key)), text))"
   ]
  },
  {
   "cell_type": "code",
   "execution_count": 53,
   "metadata": {},
   "outputs": [
    {
     "data": {
      "text/plain": [
       "'\\u0ad1ߪ\\u0bffٽ\\u0bff\\u0ad6ࠉ\\u0bffҴǅ۷\\u0ad6ƓÂ\\u0bffҴସζݐƓସߪ'"
      ]
     },
     "execution_count": 53,
     "metadata": {},
     "output_type": "execute_result"
    }
   ],
   "source": [
    "txt_cifred = cifrate_text(\"El 0 es número natural\", my_rsa.public_key())\n",
    "txt_cifred"
   ]
  },
  {
   "cell_type": "code",
   "execution_count": 56,
   "metadata": {},
   "outputs": [
    {
     "data": {
      "text/plain": [
       "'El 0 es número natural'"
      ]
     },
     "execution_count": 56,
     "metadata": {},
     "output_type": "execute_result"
    }
   ],
   "source": [
    "cifrate_text(txt_cifred, my_rsa.private_key())"
   ]
  },
  {
   "cell_type": "markdown",
   "metadata": {},
   "source": [
    "# El Algoritmo de Shor\n",
    "\n",
    "Es un algoritmo para la factorización de números. Consta de una parte que corre en un ordenador clásico y otra parte que corre en un ordenador cuántico. Como interés meramente teórico y por el contenido algebraico que tiene, lo presentamos adaptando la parte cuántica a un algoritmo normal y corriente.\n",
    "\n",
    "Dado un número natural $n\\in\\mathbb{N}$, no primo (se puede comprobar que no es primo en un tiempo asumible).\n",
    "\n",
    "1. Se toma un número aleatorio $a<n$.\n",
    "2. Se computa $f_0 = mcd(a, n)$.\n",
    "    * Si $f_0 \\neq 1$ entonces $f_0$ divide a $n$ y hemos terminado.\n",
    "    * En caso contrario ir al paso 3.\n",
    "3. _Parte cuántica_. Se busca el mínimo $r>0$ tal que\n",
    "    $$\n",
    "        a^r = 1\\ (mod\\ n)\n",
    "    $$\n",
    "\n",
    "    Esta parte se denomina estimación del periodo (de la función $f(x) = a^x\\ (mod\\ n)$), y es equivalente a calcular un logaritmo discreto (problema intratable computacionalmente). Sin embargo, en computación cuántica esta parte puede realizarse en un tiempo asumible. Nosotros utilizaremos el logaritmo discreto, pues encontrar $r$ equivale a resolver la ecuación\n",
    "    $$\n",
    "        a^{r-1} = a^{-1}\\ (mod\\ n)\n",
    "    $$\n",
    "    luego $r-1 = log_a (a^{-1}) \\implies r = 1+log_a (a^{-1})$.\n",
    "    \n",
    "    * Si $r$ es par y $a^{r/2}\\neq -1\\ (mod\\ n)$\n",
    "    $$\n",
    "        a^r-1 = 0 \\ (mod\\ n)\n",
    "    $$\n",
    "    \n",
    "    se puede factorizar de la forma\n",
    " \n",
    "    $$\n",
    "        (a^{r/2}-1) (a^{r/2}+1) = 0\\ (mod\\ n)\n",
    "    $$\n",
    "    \n",
    "    y entonces $n$ divide a $(a^{r/2}-1) (a^{r/2}+1)$.\n",
    "    \n",
    "    Denotemos $h^- = (a^{r/2}-1)$ y $h^+ = (a^{r/2}+1)$. Probaremos que $mcd(h^-, n)\\neq 1$ y $mcd(h^+, n) \\neq 1$\n",
    "    \n",
    "    Se tiene que $n|h^- h^+$ y entonces existe $k$ tal que\n",
    "    \n",
    "    $$\n",
    "        kn = h^- h^+\n",
    "    $$\n",
    "    \n",
    "    Si $mcd(h^+, n) = 1$ entonces existe $s_1, s_2$ tales que\n",
    "    \n",
    "    $$ s_1 h^+ + s_2 n = 1$$\n",
    "    \n",
    "    Multiplicando por $h^-$ queda \n",
    "    \n",
    "    $$\n",
    "        s_1 h^- h^+ + s_2 n h^- = h^- \n",
    "    $$\n",
    "    \n",
    "    luego\n",
    "    \n",
    "    $$\n",
    "        s_1 kn + s_2 n h^+ = h^- \n",
    "    $$\n",
    "    \n",
    "    y entonces $n|h^{-}$, es decir,  $n|(a^{r/2}-1)$. Esto implicaría que $$ a^{r/2} = 1\\ (mod\\ n)$$ pero no es posible pues\n",
    "    $r$ es el mínimo natural que cumple esa ecuación.\n",
    "    \n",
    "    Para probar que $mcd(h^-, n) \\neq 1$ por reducción al absurdo se llegaría a que $ a^{r/2} = -1\\ (mod\\ n)$, pero hemos impuesto lo contrario.\n",
    "    \n",
    "    Como $f_1 = mcd(h^-, n)\\neq 1$ y $f_2 = mcd(h^+, n) \\neq 1$ entonces son factores no triviales de $n$\n",
    "    \n",
    "    * Si no se cumple alguna de las condiciones se vuelve al paso 1.\n",
    "    "
   ]
  },
  {
   "cell_type": "code",
   "execution_count": 60,
   "metadata": {},
   "outputs": [],
   "source": [
    "def find_period(a, p):\n",
    "    a_ = mod_inverse(a, p)\n",
    "    return discrete_logarithm(a, a_, p)+1"
   ]
  },
  {
   "cell_type": "code",
   "execution_count": 100,
   "metadata": {},
   "outputs": [],
   "source": [
    "def shor(n):\n",
    "    while True:\n",
    "        a = int(np.random.choice(range(2, n-1)))\n",
    "        f0 = gcd(a, n)\n",
    "        if f0 != 1:\n",
    "            return (f0, n//f0)\n",
    "        else:\n",
    "            r = find_period(a, n)\n",
    "            if r % 2 == 0 and pow(a, r//2, n) != n-1:\n",
    "                x = pow(a, r//2)\n",
    "                f1 = gcd(x+1, n)\n",
    "                f2 = gcd(x-1, n)\n",
    "                return (f1, f2)"
   ]
  },
  {
   "cell_type": "code",
   "execution_count": 101,
   "metadata": {},
   "outputs": [
    {
     "data": {
      "text/plain": [
       "(23, 33)"
      ]
     },
     "execution_count": 101,
     "metadata": {},
     "output_type": "execute_result"
    }
   ],
   "source": [
    "shor(3*11*23)"
   ]
  },
  {
   "cell_type": "code",
   "execution_count": 102,
   "metadata": {},
   "outputs": [
    {
     "data": {
      "text/plain": [
       "(53, 61)"
      ]
     },
     "execution_count": 102,
     "metadata": {},
     "output_type": "execute_result"
    }
   ],
   "source": [
    "shor(61*53)"
   ]
  },
  {
   "cell_type": "code",
   "execution_count": 158,
   "metadata": {},
   "outputs": [
    {
     "data": {
      "text/plain": [
       "(557, 797)"
      ]
     },
     "execution_count": 158,
     "metadata": {},
     "output_type": "execute_result"
    }
   ],
   "source": [
    "shor(797*557)"
   ]
  },
  {
   "cell_type": "markdown",
   "metadata": {},
   "source": [
    "## Complejidad de algoritmos\n",
    "### Shor adaptado a un ordenador clásico"
   ]
  },
  {
   "cell_type": "code",
   "execution_count": 191,
   "metadata": {},
   "outputs": [
    {
     "data": {
      "text/plain": [
       "[33, 3233, 33977, 443929, 2367887, 4043531, 11866559]"
      ]
     },
     "execution_count": 191,
     "metadata": {},
     "output_type": "execute_result"
    }
   ],
   "source": [
    "import matplotlib.pyplot as plt\n",
    "from datetime import datetime\n",
    "\n",
    "numeros = [3*11, 61*53, 61*557, 797*557, 797*2971, 2971*1361, 1361*8719]\n",
    "numeros"
   ]
  },
  {
   "cell_type": "code",
   "execution_count": 201,
   "metadata": {},
   "outputs": [
    {
     "name": "stdout",
     "output_type": "stream",
     "text": [
      "Número         33 :          133 microsegundos\n",
      "Número       3233 :          349 microsegundos\n",
      "Número      33977 :        11615 microsegundos\n",
      "Número     443929 :       108909 microsegundos\n",
      "Número    2367887 :      1731897 microsegundos\n",
      "Número    4043531 :       708116 microsegundos\n",
      "Número   11866559 :     21771517 microsegundos\n"
     ]
    }
   ],
   "source": [
    "times = []\n",
    "for number in numeros:\n",
    "    \n",
    "    time1 = datetime.now()\n",
    "    a, b = shor(number)\n",
    "    time2 = datetime.now()\n",
    "    \n",
    "    time = 1000000*((time2-time1).seconds) + ((time2-time1).microseconds)\n",
    "    times.append(time)\n",
    "    print(\"Número {:>10} : {:>12} microsegundos\".format(number, time))"
   ]
  },
  {
   "cell_type": "code",
   "execution_count": 202,
   "metadata": {},
   "outputs": [
    {
     "data": {
      "text/plain": [
       "[<matplotlib.lines.Line2D at 0x7f863bda3a90>]"
      ]
     },
     "execution_count": 202,
     "metadata": {},
     "output_type": "execute_result"
    },
    {
     "data": {
      "image/png": "[encoded data removed]",
      "text/plain": [
       "<Figure size 432x288 with 1 Axes>"
      ]
     },
     "metadata": {
      "needs_background": "light"
     },
     "output_type": "display_data"
    }
   ],
   "source": [
    "plt.plot(numeros, times)"
   ]
  },
  {
   "cell_type": "code",
   "execution_count": 204,
   "metadata": {},
   "outputs": [
    {
     "data": {
      "text/plain": [
       "[0.0675,\n",
       " 0.3664454852979443,\n",
       " 0.23733022402622747,\n",
       " 0.8435672712190183,\n",
       " -0.6109776300932657,\n",
       " 2.692486975631431]"
      ]
     },
     "execution_count": 204,
     "metadata": {},
     "output_type": "execute_result"
    }
   ],
   "source": [
    "[t/n for n, t in zip(np.diff(numeros), np.diff(times))]"
   ]
  },
  {
   "cell_type": "code",
   "execution_count": null,
   "metadata": {},
   "outputs": [],
   "source": []
  }
 ],
 "metadata": {
  "kernelspec": {
   "display_name": "Python 3",
   "language": "python",
   "name": "python3"
  },
  "language_info": {
   "codemirror_mode": {
    "name": "ipython",
    "version": 3
   },
   "file_extension": ".py",
   "mimetype": "text/x-python",
   "name": "python",
   "nbconvert_exporter": "python",
   "pygments_lexer": "ipython3",
   "version": "3.8.5"
  }
 },
 "nbformat": 4,
 "nbformat_minor": 4
}
